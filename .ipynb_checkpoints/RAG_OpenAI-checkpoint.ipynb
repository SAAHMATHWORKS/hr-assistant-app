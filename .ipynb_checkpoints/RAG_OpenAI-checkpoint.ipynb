{
 "cells": [
  {
   "cell_type": "code",
   "execution_count": 1,
   "id": "1bf5ec67-b304-443c-a23e-7ae733e8c534",
   "metadata": {},
   "outputs": [],
   "source": [
    "import os\n",
    "from langchain.document_loaders import (\n",
    "    PyPDFLoader,\n",
    "    TextLoader,\n",
    "    CSVLoader\n",
    ")\n",
    "from langchain.text_splitter import RecursiveCharacterTextSplitter\n",
    "from langchain.embeddings import OpenAIEmbeddings\n",
    "from langchain.vectorstores import Chroma\n",
    "from langchain.chat_models import ChatOpenAI\n",
    "from langchain.chains import ConversationalRetrievalChain\n",
    "from langchain.prompts import PromptTemplate\n",
    "from langchain.memory import ConversationBufferMemory\n"
   ]
  },
  {
   "cell_type": "code",
   "execution_count": 2,
   "id": "48654ea1-974a-46d2-9065-d462afbebcf1",
   "metadata": {},
   "outputs": [],
   "source": [
    "def load_hr_documents():\n",
    "    documents = []\n",
    "    loaders = [\n",
    "        PyPDFLoader(\"hr_docs/Employee benefits policy - Valide le 24 avril 2023.pdf\"),\n",
    "        TextLoader(\"hr_docs/Employee handbook - Public.txt\"),\n",
    "        TextLoader(\"hr_docs/Les bonnes pratiques de communication à Gozem.txt\"),\n",
    "        TextLoader(\"hr_docs/Comprendre et agir contre les violences au travail à Gozem - Employés.txt\"),\n",
    "        CSVLoader(\"hr_docs/hr_faq.csv\"),\n",
    "    ]\n",
    "    for loader in loaders:\n",
    "        try:\n",
    "            documents.extend(loader.load())\n",
    "        except Exception as e:\n",
    "            print(f\"Error loading document: {e}\")\n",
    "    return documents\n"
   ]
  },
  {
   "cell_type": "code",
   "execution_count": 3,
   "id": "3d31fbe1-4749-4a18-ba48-03aa5152261f",
   "metadata": {},
   "outputs": [],
   "source": [
    "def process_hr_documents(documents):\n",
    "    text_splitter = RecursiveCharacterTextSplitter(\n",
    "        chunk_size=1500,\n",
    "        chunk_overlap=300,\n",
    "        length_function=len\n",
    "    )\n",
    "    processed_docs = text_splitter.split_documents(documents)\n",
    "    \n",
    "    for doc in processed_docs:\n",
    "        if not hasattr(doc, 'metadata'):\n",
    "            doc.metadata = {}\n",
    "        doc.metadata['document_type'] = doc.metadata.get('source', '').split('.')[-1]\n",
    "        doc.metadata['is_confidential'] = 'confidential' in doc.metadata.get('source', '').lower()\n",
    "    \n",
    "    return processed_docs\n"
   ]
  },
  {
   "cell_type": "code",
   "execution_count": 4,
   "id": "2d1fbf24-c03f-4a08-9203-0a880887dbd6",
   "metadata": {},
   "outputs": [],
   "source": [
    "def create_vector_store(documents):\n",
    "    embedding_model = OpenAIEmbeddings()\n",
    "    vectorstore = Chroma.from_documents(documents, embedding_model, persist_directory=\"chroma_store\")\n",
    "    return vectorstore\n"
   ]
  },
  {
   "cell_type": "code",
   "execution_count": 5,
   "id": "39679377-2bd5-4982-8597-c637f9c20bea",
   "metadata": {},
   "outputs": [],
   "source": [
    "HR_PROMPT_TEMPLATE = \"\"\"You are an HR assistant for {company_name}. \n",
    "Provide accurate, professional answers based on the provided context.\n",
    "If you're unsure, direct the user to contact HR.\n",
    "\n",
    "Context: {context}\n",
    "\n",
    "Question: {question}\n",
    "Answer in a professional tone while being helpful:\"\"\"\n",
    "\n",
    "HR_PROMPT = PromptTemplate(\n",
    "    template=HR_PROMPT_TEMPLATE,\n",
    "    input_variables=[\"context\", \"question\", \"company_name\"]\n",
    ")\n"
   ]
  },
  {
   "cell_type": "code",
   "execution_count": 6,
   "id": "df0ddd42-6f9b-47de-813b-2c9589a935f9",
   "metadata": {},
   "outputs": [],
   "source": [
    "def initialize_hr_qa_chain(vector_store, company_name=\"Gozem\"):\n",
    "    llm = ChatOpenAI(model_name=\"gpt-4\", temperature=0.2)\n",
    "\n",
    "    memory = ConversationBufferMemory(\n",
    "        memory_key=\"chat_history\",\n",
    "        return_messages=True,\n",
    "        output_key='answer'\n",
    "    )\n",
    "\n",
    "    return ConversationalRetrievalChain.from_llm(\n",
    "        llm=llm,\n",
    "        retriever=vector_store.as_retriever(\n",
    "            search_type=\"mmr\",\n",
    "            search_kwargs={\"k\": 5, \"filter\": {\"is_confidential\": False}}\n",
    "        ),\n",
    "        memory=memory,\n",
    "        combine_docs_chain_kwargs={\n",
    "            \"prompt\": HR_PROMPT.partial(company_name=company_name)\n",
    "        },\n",
    "        return_source_documents=True\n",
    "    )\n"
   ]
  },
  {
   "cell_type": "code",
   "execution_count": null,
   "id": "b798687a-6111-4d60-bfa1-592233b3046a",
   "metadata": {},
   "outputs": [],
   "source": []
  }
 ],
 "metadata": {
  "kernelspec": {
   "display_name": "Python 3 (ipykernel)",
   "language": "python",
   "name": "python3"
  },
  "language_info": {
   "codemirror_mode": {
    "name": "ipython",
    "version": 3
   },
   "file_extension": ".py",
   "mimetype": "text/x-python",
   "name": "python",
   "nbconvert_exporter": "python",
   "pygments_lexer": "ipython3",
   "version": "3.11.0"
  }
 },
 "nbformat": 4,
 "nbformat_minor": 5
}
